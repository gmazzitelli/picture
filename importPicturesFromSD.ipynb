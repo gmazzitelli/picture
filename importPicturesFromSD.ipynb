{
 "cells": [
  {
   "cell_type": "code",
   "execution_count": 20,
   "metadata": {},
   "outputs": [
    {
     "name": "stdout",
     "output_type": "stream",
     "text": [
      "file in SD: 216, file in Local folder: 390\n",
      "Vecchi: 216, nuovi: 0\n",
      "Finished!\n"
     ]
    }
   ],
   "source": [
    "import os\n",
    "import time\n",
    "from glob import glob\n",
    "import shutil\n",
    "#\n",
    "# G. Mazzitelli 2 Gennaio 2021\n",
    "# COPIA DATI DA SD, E LI METTE NEL FOLDER PICTURE IN SUBFOLDER PER DATA DI CREZIONE DELL'IMMAGINE\n",
    "# FUNZIONA PER FILE FUJY JPG RAF\n",
    "# ATTENZIONE il controllo e' fatto sulla estezione JPG (non RAF)\n",
    "#\n",
    "SD_PATH = \"/Volumes/Untitled/DCIM/\"\n",
    "L_PATH  = \"/Users/mazzitel/Pictures/\"\n",
    "#\n",
    "sdRAFPath    = [y for x in os.walk(SD_PATH) for y in glob(os.path.join(x[0], '*.RAF'))]\n",
    "sdJPGPath    = [y for x in os.walk(SD_PATH) for y in glob(os.path.join(x[0], '*.JPG'))]\n",
    "localRAFPath = [y for x in os.walk(L_PATH) for y in glob(os.path.join(x[0], '*.RAF'))]\n",
    "localJPGPath = [y for x in os.walk(L_PATH) for y in glob(os.path.join(x[0], '*.JPG'))]\n",
    "localJPGFile = [x.split(\"/\")[-1] for x in localJPGPath]\n",
    "sdJPGFile    = [x.split(\"/\")[-1] for x in sdJPGPath]\n",
    "old_path     = []\n",
    "new_path     = []\n",
    "#\n",
    "# trova vecchi e nuovi file tra SD e local folder Picure controllo sui JPG\n",
    "#\n",
    "print(\"file in SD: \"+str(len(sdJPGFile))+\", file in Local folder: \"+str(len(localJPGFile)))\n",
    "for i, jpg_file in enumerate(sdJPGFile):\n",
    "    if jpg_file in localJPGFile:\n",
    "        old_path.append(sdJPGPath[i])\n",
    "    else:\n",
    "        new_path.append(sdJPGPath[i])\n",
    "print(\"Vecchi: \"+str(len(old_path))+\", nuovi: \"+str(len(new_path)))\n",
    "#\n",
    "# trova le date dei file e crea eventuali nuovi folders\n",
    "#\n",
    "new_folders = []\n",
    "folder = \"\"\n",
    "for i, file_path in enumerate(new_path):\n",
    "    new_folder = time.strftime('%Y-%m-%d', time.localtime(os.path.getmtime(file_path)))\n",
    "    if folder != new_folder:\n",
    "        new_folders.append(new_folder)\n",
    "    folder = new_folder\n",
    "for folder_name in new_folders:\n",
    "    output_folder = os.path.join(L_PATH, folder_name)\n",
    "    print (\"New Folder : \"+output_folder)\n",
    "    #Create output folder\n",
    "    try:\n",
    "        os.makedirs(output_folder)\n",
    "    except FileExistsError as exists:\n",
    "        print('Folder exists:', exists.filename)\n",
    "        print('Using existing folder...')\n",
    "# \n",
    "# copia i nuvi file\n",
    "#\n",
    "for i, file_path in enumerate(new_path):\n",
    "    new_folder = time.strftime('%Y-%m-%d', time.localtime(os.path.getmtime(file_path)))\n",
    "    output_folder = os.path.join(L_PATH, new_folder)\n",
    "    print (\"Coping file \"+str(file_path)+\" to: \"+str(output_folder))\n",
    "    try:\n",
    "        shutil.copy(file_path, output_folder)\n",
    "    except Error as err:\n",
    "        print(err) \n",
    "    raw_path = str(file_path.split(\".\")[:-1][0])+\".RAF\"\n",
    "    print (\"Coping file \"+raw_path+\" to: \"+str(output_folder))\n",
    "    try:\n",
    "        shutil.copy(raw_path, output_folder)\n",
    "    except Error as err:\n",
    "        print(err)\n",
    "\n",
    "print('Finished!')"
   ]
  },
  {
   "cell_type": "code",
   "execution_count": null,
   "metadata": {},
   "outputs": [],
   "source": []
  }
 ],
 "metadata": {
  "kernelspec": {
   "display_name": "Python 3",
   "language": "python",
   "name": "python3"
  },
  "language_info": {
   "codemirror_mode": {
    "name": "ipython",
    "version": 3
   },
   "file_extension": ".py",
   "mimetype": "text/x-python",
   "name": "python",
   "nbconvert_exporter": "python",
   "pygments_lexer": "ipython3",
   "version": "3.8.2"
  }
 },
 "nbformat": 4,
 "nbformat_minor": 4
}
